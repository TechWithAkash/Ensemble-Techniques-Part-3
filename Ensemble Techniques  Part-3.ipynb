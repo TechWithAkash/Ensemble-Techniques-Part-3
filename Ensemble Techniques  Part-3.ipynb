{
 "cells": [
  {
   "cell_type": "markdown",
   "id": "7c94f267",
   "metadata": {},
   "source": [
    "\n",
    "\n",
    "### Q1. What is Random Forest Regressor?\n",
    "Random Forest Regressor is a machine learning algorithm that creates an ensemble of decision trees. In regression tasks, it constructs multiple decision trees on random subsets of the training data and makes predictions by averaging the predictions of these trees.\n",
    "\n",
    "### Q2. How does Random Forest Regressor reduce the risk of overfitting?\n",
    "Random Forest Regressor reduces overfitting through the following mechanisms:\n",
    "- Using bagging (bootstrap aggregating) to create multiple decision trees on random subsets of the data.\n",
    "- Randomly selecting a subset of features for each tree's split, introducing randomness and reducing correlations among trees.\n",
    "- Averaging predictions across multiple trees helps mitigate the effects of individual tree overfitting.\n",
    "\n",
    "### Q3. How does Random Forest Regressor aggregate the predictions of multiple decision trees?\n",
    "In Random Forest Regressor, predictions are aggregated by averaging the predictions made by individual decision trees. For regression tasks, the final prediction is often the average (mean) of predictions from all trees in the forest.\n",
    "\n",
    "### Q4. What are the hyperparameters of Random Forest Regressor?\n",
    "Some important hyperparameters of Random Forest Regressor include:\n",
    "- Number of trees in the forest (`n_estimators`)\n",
    "- Maximum depth of each tree (`max_depth`)\n",
    "- Minimum number of samples required to split a node (`min_samples_split`)\n",
    "- Number of features to consider for the best split (`max_features`)\n",
    "- Criterion for splitting (`criterion`)\n",
    "\n",
    "### Q5. What is the difference between Random Forest Regressor and Decision Tree Regressor?\n",
    "- **Random Forest Regressor** is an ensemble method that constructs multiple decision trees and aggregates their predictions.\n",
    "- **Decision Tree Regressor** is a single decision tree that recursively partitions the data based on features to make predictions.\n",
    "\n",
    "### Q6. What are the advantages and disadvantages of Random Forest Regressor?\n",
    "#### Advantages:\n",
    "- Reduces overfitting and variance.\n",
    "- Handles large datasets with high dimensionality.\n",
    "- Provides feature importance.\n",
    "\n",
    "#### Disadvantages:\n",
    "- Complexity in interpretation compared to a single decision tree.\n",
    "- May require more computational resources.\n",
    "\n",
    "### Q7. What is the output of Random Forest Regressor?\n",
    "The output of a Random Forest Regressor for a regression task is a continuous numeric value, which represents the predicted outcome based on the input features.\n",
    "\n",
    "### Q8. Can Random Forest Regressor be used for classification tasks?\n",
    "Yes, Random Forest can also be used for classification tasks. In classification, it's called a Random Forest Classifier, while in regression tasks, it's referred to as a Random Forest Regressor."
   ]
  },
  {
   "cell_type": "markdown",
   "id": "d94de17e",
   "metadata": {},
   "source": []
  },
  {
   "cell_type": "code",
   "execution_count": null,
   "id": "3a31faae",
   "metadata": {},
   "outputs": [],
   "source": []
  }
 ],
 "metadata": {
  "kernelspec": {
   "display_name": "Python 3 (ipykernel)",
   "language": "python",
   "name": "python3"
  },
  "language_info": {
   "codemirror_mode": {
    "name": "ipython",
    "version": 3
   },
   "file_extension": ".py",
   "mimetype": "text/x-python",
   "name": "python",
   "nbconvert_exporter": "python",
   "pygments_lexer": "ipython3",
   "version": "3.10.9"
  }
 },
 "nbformat": 4,
 "nbformat_minor": 5
}
